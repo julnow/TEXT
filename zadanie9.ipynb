{
 "cells": [
  {
   "cell_type": "code",
   "execution_count": 1,
   "id": "0c25d373-67d3-4252-a65c-1e596237d7e2",
   "metadata": {},
   "outputs": [
    {
     "name": "stderr",
     "output_type": "stream",
     "text": [
      "Package version: 3.2.4\n",
      "Unicode version: 13.0\n",
      "ICU version: 69.1\n",
      "\n",
      "Parallel computing: 8 of 8 threads used.\n",
      "\n",
      "See https://quanteda.io for tutorials and examples.\n",
      "\n",
      "── \u001b[1mAttaching packages\u001b[22m ─────────────────────────────────────── tidyverse 1.3.2 ──\n",
      "\u001b[32m✔\u001b[39m \u001b[34mggplot2\u001b[39m 3.4.0      \u001b[32m✔\u001b[39m \u001b[34mpurrr  \u001b[39m 0.3.5 \n",
      "\u001b[32m✔\u001b[39m \u001b[34mtibble \u001b[39m 3.1.8      \u001b[32m✔\u001b[39m \u001b[34mdplyr  \u001b[39m 1.0.10\n",
      "\u001b[32m✔\u001b[39m \u001b[34mtidyr  \u001b[39m 1.2.1      \u001b[32m✔\u001b[39m \u001b[34mstringr\u001b[39m 1.5.0 \n",
      "\u001b[32m✔\u001b[39m \u001b[34mreadr  \u001b[39m 2.1.3      \u001b[32m✔\u001b[39m \u001b[34mforcats\u001b[39m 0.5.2 \n",
      "── \u001b[1mConflicts\u001b[22m ────────────────────────────────────────── tidyverse_conflicts() ──\n",
      "\u001b[31m✖\u001b[39m \u001b[34mdplyr\u001b[39m::\u001b[32mfilter()\u001b[39m masks \u001b[34mstats\u001b[39m::filter()\n",
      "\u001b[31m✖\u001b[39m \u001b[34mdplyr\u001b[39m::\u001b[32mlag()\u001b[39m    masks \u001b[34mstats\u001b[39m::lag()\n",
      "\n",
      "Attaching package: ‘magrittr’\n",
      "\n",
      "\n",
      "The following object is masked from ‘package:purrr’:\n",
      "\n",
      "    set_names\n",
      "\n",
      "\n",
      "The following object is masked from ‘package:tidyr’:\n",
      "\n",
      "    extract\n",
      "\n",
      "\n",
      "Loading required package: lattice\n",
      "\n",
      "\n",
      "Attaching package: ‘caret’\n",
      "\n",
      "\n",
      "The following object is masked from ‘package:purrr’:\n",
      "\n",
      "    lift\n",
      "\n",
      "\n"
     ]
    }
   ],
   "source": [
    "library(quanteda)\n",
    "library(quanteda.textplots)\n",
    "library(quanteda.textstats)\n",
    "library(tidyverse)\n",
    "library(magrittr)\n",
    "library(caret)"
   ]
  },
  {
   "cell_type": "code",
   "execution_count": 2,
   "id": "66744543-001e-4f71-9dd7-0f05436adf82",
   "metadata": {},
   "outputs": [
    {
     "data": {
      "text/html": [
       "<table class=\"dataframe\">\n",
       "<caption>A summary.corpus: 5 × 9</caption>\n",
       "<thead>\n",
       "\t<tr><th></th><th scope=col>Text</th><th scope=col>Types</th><th scope=col>Tokens</th><th scope=col>Sentences</th><th scope=col>X</th><th scope=col>id</th><th scope=col>title</th><th scope=col>author</th><th scope=col>label</th></tr>\n",
       "\t<tr><th></th><th scope=col>&lt;chr&gt;</th><th scope=col>&lt;int&gt;</th><th scope=col>&lt;int&gt;</th><th scope=col>&lt;int&gt;</th><th scope=col>&lt;int&gt;</th><th scope=col>&lt;int&gt;</th><th scope=col>&lt;chr&gt;</th><th scope=col>&lt;chr&gt;</th><th scope=col>&lt;int&gt;</th></tr>\n",
       "</thead>\n",
       "<tbody>\n",
       "\t<tr><th scope=row>1</th><td>text1</td><td> 70</td><td>  86</td><td> 5</td><td>  952</td><td>  951</td><td>[WATCH] Thug Calls US Marine a “Pussy” – Barely Lives to Tell the Tale                 </td><td>The Conservative Millennial</td><td>1</td></tr>\n",
       "\t<tr><th scope=row>2</th><td>text2</td><td>239</td><td> 485</td><td>14</td><td>11483</td><td>11482</td><td>Trump Says Health Law Replacement May Not Be Ready Until Next Year - The New York Times</td><td>Mark Landler               </td><td>0</td></tr>\n",
       "\t<tr><th scope=row>3</th><td>text3</td><td>598</td><td>1430</td><td>55</td><td>18965</td><td>18964</td><td>Downside of Being a Global Hub: Invasive Species - The New York Times                  </td><td>Sarah Maslin Nir           </td><td>0</td></tr>\n",
       "\t<tr><th scope=row>4</th><td>text4</td><td>198</td><td> 355</td><td>11</td><td> 6812</td><td> 6811</td><td><span style=white-space:pre-wrap>American Tourist Can’t Get Over Dirty, Decaying &amp; Dangerous Charm Of Dublin City       </span></td><td><span style=white-space:pre-wrap>Julius Hubris              </span></td><td>1</td></tr>\n",
       "\t<tr><th scope=row>5</th><td>text5</td><td>289</td><td> 585</td><td>21</td><td>11026</td><td>11025</td><td>Damascus Bombings Near Pilgrimage Sites Kill Dozens - The New York Times               </td><td>Ben Hubbard                </td><td>0</td></tr>\n",
       "</tbody>\n",
       "</table>\n"
      ],
      "text/latex": [
       "A summary.corpus: 5 × 9\n",
       "\\begin{tabular}{r|lllllllll}\n",
       "  & Text & Types & Tokens & Sentences & X & id & title & author & label\\\\\n",
       "  & <chr> & <int> & <int> & <int> & <int> & <int> & <chr> & <chr> & <int>\\\\\n",
       "\\hline\n",
       "\t1 & text1 &  70 &   86 &  5 &   952 &   951 & {[}WATCH{]} Thug Calls US Marine a “Pussy” – Barely Lives to Tell the Tale                  & The Conservative Millennial & 1\\\\\n",
       "\t2 & text2 & 239 &  485 & 14 & 11483 & 11482 & Trump Says Health Law Replacement May Not Be Ready Until Next Year - The New York Times & Mark Landler                & 0\\\\\n",
       "\t3 & text3 & 598 & 1430 & 55 & 18965 & 18964 & Downside of Being a Global Hub: Invasive Species - The New York Times                   & Sarah Maslin Nir            & 0\\\\\n",
       "\t4 & text4 & 198 &  355 & 11 &  6812 &  6811 & American Tourist Can’t Get Over Dirty, Decaying \\& Dangerous Charm Of Dublin City        & Julius Hubris               & 1\\\\\n",
       "\t5 & text5 & 289 &  585 & 21 & 11026 & 11025 & Damascus Bombings Near Pilgrimage Sites Kill Dozens - The New York Times                & Ben Hubbard                 & 0\\\\\n",
       "\\end{tabular}\n"
      ],
      "text/markdown": [
       "\n",
       "A summary.corpus: 5 × 9\n",
       "\n",
       "| <!--/--> | Text &lt;chr&gt; | Types &lt;int&gt; | Tokens &lt;int&gt; | Sentences &lt;int&gt; | X &lt;int&gt; | id &lt;int&gt; | title &lt;chr&gt; | author &lt;chr&gt; | label &lt;int&gt; |\n",
       "|---|---|---|---|---|---|---|---|---|---|\n",
       "| 1 | text1 |  70 |   86 |  5 |   952 |   951 | [WATCH] Thug Calls US Marine a “Pussy” – Barely Lives to Tell the Tale                  | The Conservative Millennial | 1 |\n",
       "| 2 | text2 | 239 |  485 | 14 | 11483 | 11482 | Trump Says Health Law Replacement May Not Be Ready Until Next Year - The New York Times | Mark Landler                | 0 |\n",
       "| 3 | text3 | 598 | 1430 | 55 | 18965 | 18964 | Downside of Being a Global Hub: Invasive Species - The New York Times                   | Sarah Maslin Nir            | 0 |\n",
       "| 4 | text4 | 198 |  355 | 11 |  6812 |  6811 | American Tourist Can’t Get Over Dirty, Decaying &amp; Dangerous Charm Of Dublin City        | Julius Hubris               | 1 |\n",
       "| 5 | text5 | 289 |  585 | 21 | 11026 | 11025 | Damascus Bombings Near Pilgrimage Sites Kill Dozens - The New York Times                | Ben Hubbard                 | 0 |\n",
       "\n"
      ],
      "text/plain": [
       "  Text  Types Tokens Sentences X     id   \n",
       "1 text1  70     86    5          952   951\n",
       "2 text2 239    485   14        11483 11482\n",
       "3 text3 598   1430   55        18965 18964\n",
       "4 text4 198    355   11         6812  6811\n",
       "5 text5 289    585   21        11026 11025\n",
       "  title                                                                                  \n",
       "1 [WATCH] Thug Calls US Marine a “Pussy” – Barely Lives to Tell the Tale                 \n",
       "2 Trump Says Health Law Replacement May Not Be Ready Until Next Year - The New York Times\n",
       "3 Downside of Being a Global Hub: Invasive Species - The New York Times                  \n",
       "4 American Tourist Can’t Get Over Dirty, Decaying & Dangerous Charm Of Dublin City       \n",
       "5 Damascus Bombings Near Pilgrimage Sites Kill Dozens - The New York Times               \n",
       "  author                      label\n",
       "1 The Conservative Millennial 1    \n",
       "2 Mark Landler                0    \n",
       "3 Sarah Maslin Nir            0    \n",
       "4 Julius Hubris               1    \n",
       "5 Ben Hubbard                 0    "
      ]
     },
     "metadata": {},
     "output_type": "display_data"
    }
   ],
   "source": [
    "#loading news\n",
    "df <- read.csv(\"http://jsienkiewicz.pl/TEXT/lab/data_fn.csv\")\n",
    "df.corp <- corpus(df)\n",
    "summary(df.corp, n = 5)"
   ]
  },
  {
   "cell_type": "code",
   "execution_count": 3,
   "id": "d2313afe-581a-4f8e-99cd-6069430d15ec",
   "metadata": {},
   "outputs": [],
   "source": [
    "# document-feature matrix for input in following functions\n",
    "df.mat <- df.corp %>% \n",
    "          tokens(remove_punct = T) %>% \n",
    "          dfm %>% dfm_remove(stopwords(\"english\")) %>% \n",
    "          dfm_wordstem()\n",
    "#statistics to get number of puncts\n",
    "df.s <- df.corp %>% \n",
    "    textstat_summary() %>%\n",
    "    select(document, puncts)\n",
    "#getting TTR and C\n",
    "df.lex <- df.mat %>% \n",
    "    textstat_lexdiv(measure = c(\"TTR\", \"C\")) \n",
    "#getting FOG\n",
    "df.read <- df.corp %>% \n",
    "    textstat_readability(measure = \"FOG\")"
   ]
  },
  {
   "cell_type": "code",
   "execution_count": 4,
   "id": "0e5fdd20-f503-4659-8475-0788a0c4405b",
   "metadata": {},
   "outputs": [
    {
     "data": {
      "text/html": [
       "<table class=\"dataframe\">\n",
       "<caption>A data.frame: 6 × 8</caption>\n",
       "<thead>\n",
       "\t<tr><th></th><th scope=col>Types</th><th scope=col>Tokens</th><th scope=col>Sentences</th><th scope=col>label</th><th scope=col>puncts</th><th scope=col>TTR</th><th scope=col>C</th><th scope=col>FOG</th></tr>\n",
       "\t<tr><th></th><th scope=col>&lt;int&gt;</th><th scope=col>&lt;int&gt;</th><th scope=col>&lt;int&gt;</th><th scope=col>&lt;fct&gt;</th><th scope=col>&lt;int&gt;</th><th scope=col>&lt;dbl&gt;</th><th scope=col>&lt;dbl&gt;</th><th scope=col>&lt;dbl&gt;</th></tr>\n",
       "</thead>\n",
       "<tbody>\n",
       "\t<tr><th scope=row>1</th><td> 70</td><td>  86</td><td> 5</td><td>fake</td><td> 13</td><td>0.9047619</td><td>0.9732230</td><td>10.24432</td></tr>\n",
       "\t<tr><th scope=row>2</th><td>239</td><td> 485</td><td>14</td><td>true</td><td> 66</td><td>0.6514523</td><td>0.9218656</td><td>18.65401</td></tr>\n",
       "\t<tr><th scope=row>3</th><td>598</td><td>1430</td><td>55</td><td>true</td><td>175</td><td>0.6170213</td><td>0.9263743</td><td>14.41811</td></tr>\n",
       "\t<tr><th scope=row>4</th><td>198</td><td> 355</td><td>11</td><td>fake</td><td> 41</td><td>0.7485380</td><td>0.9436693</td><td>17.27805</td></tr>\n",
       "\t<tr><th scope=row>5</th><td>289</td><td> 585</td><td>21</td><td>true</td><td> 61</td><td>0.6476510</td><td>0.9237500</td><td>16.62217</td></tr>\n",
       "\t<tr><th scope=row>6</th><td> 66</td><td>  77</td><td> 3</td><td>fake</td><td> 17</td><td>0.8666667</td><td>0.9624078</td><td>17.33333</td></tr>\n",
       "</tbody>\n",
       "</table>\n"
      ],
      "text/latex": [
       "A data.frame: 6 × 8\n",
       "\\begin{tabular}{r|llllllll}\n",
       "  & Types & Tokens & Sentences & label & puncts & TTR & C & FOG\\\\\n",
       "  & <int> & <int> & <int> & <fct> & <int> & <dbl> & <dbl> & <dbl>\\\\\n",
       "\\hline\n",
       "\t1 &  70 &   86 &  5 & fake &  13 & 0.9047619 & 0.9732230 & 10.24432\\\\\n",
       "\t2 & 239 &  485 & 14 & true &  66 & 0.6514523 & 0.9218656 & 18.65401\\\\\n",
       "\t3 & 598 & 1430 & 55 & true & 175 & 0.6170213 & 0.9263743 & 14.41811\\\\\n",
       "\t4 & 198 &  355 & 11 & fake &  41 & 0.7485380 & 0.9436693 & 17.27805\\\\\n",
       "\t5 & 289 &  585 & 21 & true &  61 & 0.6476510 & 0.9237500 & 16.62217\\\\\n",
       "\t6 &  66 &   77 &  3 & fake &  17 & 0.8666667 & 0.9624078 & 17.33333\\\\\n",
       "\\end{tabular}\n"
      ],
      "text/markdown": [
       "\n",
       "A data.frame: 6 × 8\n",
       "\n",
       "| <!--/--> | Types &lt;int&gt; | Tokens &lt;int&gt; | Sentences &lt;int&gt; | label &lt;fct&gt; | puncts &lt;int&gt; | TTR &lt;dbl&gt; | C &lt;dbl&gt; | FOG &lt;dbl&gt; |\n",
       "|---|---|---|---|---|---|---|---|---|\n",
       "| 1 |  70 |   86 |  5 | fake |  13 | 0.9047619 | 0.9732230 | 10.24432 |\n",
       "| 2 | 239 |  485 | 14 | true |  66 | 0.6514523 | 0.9218656 | 18.65401 |\n",
       "| 3 | 598 | 1430 | 55 | true | 175 | 0.6170213 | 0.9263743 | 14.41811 |\n",
       "| 4 | 198 |  355 | 11 | fake |  41 | 0.7485380 | 0.9436693 | 17.27805 |\n",
       "| 5 | 289 |  585 | 21 | true |  61 | 0.6476510 | 0.9237500 | 16.62217 |\n",
       "| 6 |  66 |   77 |  3 | fake |  17 | 0.8666667 | 0.9624078 | 17.33333 |\n",
       "\n"
      ],
      "text/plain": [
       "  Types Tokens Sentences label puncts TTR       C         FOG     \n",
       "1  70     86    5        fake   13    0.9047619 0.9732230 10.24432\n",
       "2 239    485   14        true   66    0.6514523 0.9218656 18.65401\n",
       "3 598   1430   55        true  175    0.6170213 0.9263743 14.41811\n",
       "4 198    355   11        fake   41    0.7485380 0.9436693 17.27805\n",
       "5 289    585   21        true   61    0.6476510 0.9237500 16.62217\n",
       "6  66     77    3        fake   17    0.8666667 0.9624078 17.33333"
      ]
     },
     "metadata": {},
     "output_type": "display_data"
    }
   ],
   "source": [
    "#final dataset\n",
    "df.set <- data.frame(summary(df.corp, n = 2000)) %>%\n",
    "    select(Text, Types, Tokens, Sentences, label) %>%\n",
    "    mutate(label = as.factor(c(\"true\", \"fake\")[df$label + 1])) %>%\n",
    "    rename(document = Text) %>%\n",
    "    left_join(., df.s, by='document') %>%\n",
    "    left_join(., df.lex, by='document') %>%\n",
    "    left_join(., df.read, by='document') %>%\n",
    "    select(-document) %>%\n",
    "    drop_na()\n",
    "head(df.set)"
   ]
  },
  {
   "cell_type": "code",
   "execution_count": 5,
   "id": "09334c1c-065d-40e7-a348-9a9b0f7472c5",
   "metadata": {},
   "outputs": [],
   "source": [
    "#training\n",
    "class <- df.set$label #classes label\n",
    "\n",
    "levels(class) <- c(\"fake\", \"true\") #objective and subjective\n",
    "df.set %<>% #removing label column before training\n",
    "    select(-label)\n",
    "data <- cbind(df.set, class.out = class)\n",
    "\n",
    "\n",
    "fit <- trainControl(method = \"cv\", number = 10)\n",
    "model <- train(class.out ~ ., data = data, method = \"svmLinear\", trControl = fit)"
   ]
  },
  {
   "cell_type": "code",
   "execution_count": 6,
   "id": "2fde8da5-4cf5-43a4-96a0-3ddad0869e8f",
   "metadata": {},
   "outputs": [
    {
     "data": {
      "text/plain": [
       "Support Vector Machines with Linear Kernel \n",
       "\n",
       "1982 samples\n",
       "   7 predictor\n",
       "   2 classes: 'fake', 'true' \n",
       "\n",
       "No pre-processing\n",
       "Resampling: Cross-Validated (10 fold) \n",
       "Summary of sample sizes: 1784, 1784, 1783, 1784, 1784, 1784, ... \n",
       "Resampling results:\n",
       "\n",
       "  Accuracy  Kappa    \n",
       "  0.671066  0.3421654\n",
       "\n",
       "Tuning parameter 'C' was held constant at a value of 1"
      ]
     },
     "metadata": {},
     "output_type": "display_data"
    }
   ],
   "source": [
    "model"
   ]
  },
  {
   "cell_type": "code",
   "execution_count": 7,
   "id": "6cbf8e6e-416f-4e4d-a77c-a7fac72c7a3e",
   "metadata": {},
   "outputs": [
    {
     "data": {
      "text/plain": [
       "Cross-Validated (10 fold) Confusion Matrix \n",
       "\n",
       "(entries are percentual average cell counts across resamples)\n",
       " \n",
       "          Reference\n",
       "Prediction fake true\n",
       "      fake 33.0 16.1\n",
       "      true 16.8 34.1\n",
       "                           \n",
       " Accuracy (average) : 0.671\n"
      ]
     },
     "metadata": {},
     "output_type": "display_data"
    }
   ],
   "source": [
    "confusionMatrix(model)"
   ]
  }
 ],
 "metadata": {
  "kernelspec": {
   "display_name": "R",
   "language": "R",
   "name": "ir"
  },
  "language_info": {
   "codemirror_mode": "r",
   "file_extension": ".r",
   "mimetype": "text/x-r-source",
   "name": "R",
   "pygments_lexer": "r",
   "version": "4.2.2"
  }
 },
 "nbformat": 4,
 "nbformat_minor": 5
}
