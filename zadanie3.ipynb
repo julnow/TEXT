{
 "cells": [
  {
   "cell_type": "code",
   "execution_count": 140,
   "id": "1cad06ef-75fe-4034-ad80-fc2ed1800f40",
   "metadata": {
    "tags": []
   },
   "outputs": [],
   "source": [
    "library(magrittr)\n",
    "library(tibble)\n",
    "library(gutenbergr)\n",
    "library(dplyr)\n",
    "library(tidytext)\n",
    "library(ggplot2)\n",
    "library(tidyverse)"
   ]
  },
  {
   "cell_type": "code",
   "execution_count": 206,
   "id": "1eb2de58-a72d-4298-8b18-fec837ffc312",
   "metadata": {},
   "outputs": [],
   "source": [
    "#downloading same titles in english and french\n",
    "booksIdEn <- c(83, 103, 164, 1268, 1608, 1257, 965, 11656, 174, 887)\n",
    "booksIdEnPlusOne <- c(84, 104, 165, 1269, 1609, 1258, 966, 11657, 175, 888)\n",
    "\n",
    "booksIdFr <- c(799, 800, 5097, 14287, 2419, 19951, 26504, 13735, 14192, 51236)\n",
    "\n",
    "#function for calculating heap law\n",
    "heap <- function(booksId) {\n",
    "    g <- gutenberg_works()\n",
    "    v <- gutenberg_download(booksId) \n",
    "    books <- g[g$gutenberg_id %in% booksId,c(\"gutenberg_id\",\"title\")]\n",
    "    v %<>% left_join(books) %>%\n",
    "        mutate(gutenberg_id = NULL)\n",
    "\n",
    "    heaps <- v %>%\n",
    "        unnest_tokens(word, text) %>%\n",
    "        group_by(title) %>% \n",
    "        mutate(M = row_number(), V = cumsum(!duplicated(word))) %>%\n",
    "        summarise(a = lm(log10(V) ~ log10(M))$coefficients[1], b = lm(log10(V) ~ log10(M))$coefficients[2])\n",
    "    return(heaps)\n",
    "    \n",
    "}\n"
   ]
  },
  {
   "cell_type": "code",
   "execution_count": 192,
   "id": "3347fc8e-0546-4009-b22d-f8729244a41c",
   "metadata": {},
   "outputs": [
    {
     "name": "stderr",
     "output_type": "stream",
     "text": [
      "\u001b[1m\u001b[22mJoining, by = \"gutenberg_id\"\n"
     ]
    }
   ],
   "source": [
    "heapEn <- heap(booksIdEn)"
   ]
  },
  {
   "cell_type": "code",
   "execution_count": 207,
   "id": "dd96b9bd-2549-4095-a3c2-2a06e0a3c2e9",
   "metadata": {},
   "outputs": [
    {
     "name": "stderr",
     "output_type": "stream",
     "text": [
      "\u001b[1m\u001b[22mJoining, by = \"gutenberg_id\"\n"
     ]
    }
   ],
   "source": [
    "heapEnPl <- heap(booksIdEnPlusOne) # zamiast francuskiego losowe id przesuniete o jeden"
   ]
  },
  {
   "cell_type": "code",
   "execution_count": 204,
   "id": "808015fb-dadb-4c7f-acd3-9eeb57f52280",
   "metadata": {},
   "outputs": [
    {
     "data": {
      "text/html": [
       "<table class=\"dataframe\">\n",
       "<caption>A data.frame: 20 × 4</caption>\n",
       "<thead>\n",
       "\t<tr><th scope=col>title</th><th scope=col>a</th><th scope=col>b</th><th scope=col>language</th></tr>\n",
       "\t<tr><th scope=col>&lt;chr&gt;</th><th scope=col>&lt;dbl&gt;</th><th scope=col>&lt;dbl&gt;</th><th scope=col>&lt;chr&gt;</th></tr>\n",
       "</thead>\n",
       "<tbody>\n",
       "\t<tr><td>Around the World in Eighty Days                                                            </td><td>0.7394671</td><td>0.6532877</td><td>en</td></tr>\n",
       "\t<tr><td>Camille (La Dame aux Camilias)                                                             </td><td>1.0612123</td><td>0.5454732</td><td>en</td></tr>\n",
       "\t<tr><td>From the Earth to the Moon; and, Round the Moon                                            </td><td>0.9548350</td><td>0.6068525</td><td>en</td></tr>\n",
       "\t<tr><td>Intentions                                                                                 </td><td>0.6856043</td><td>0.6769286</td><td>en</td></tr>\n",
       "\t<tr><td>The Black Tulip                                                                            </td><td>0.8978457</td><td>0.6039249</td><td>en</td></tr>\n",
       "\t<tr><td>The Great Shadow and Other Napoleonic Tales                                                </td><td>0.7409080</td><td>0.6288367</td><td>en</td></tr>\n",
       "\t<tr><td>The Mysterious Island                                                                      </td><td>1.0906852</td><td>0.5520328</td><td>en</td></tr>\n",
       "\t<tr><td>The Picture of Dorian Gray                                                                 </td><td>0.7400915</td><td>0.6347603</td><td>en</td></tr>\n",
       "\t<tr><td>The Three Musketeers                                                                       </td><td>1.2600071</td><td>0.5193619</td><td>en</td></tr>\n",
       "\t<tr><td>Twenty Thousand Leagues under the Sea                                                      </td><td>0.9198317</td><td>0.6112799</td><td>en</td></tr>\n",
       "\t<tr><td>Frankenstein; Or, The Modern Prometheus                                                    </td><td>0.9466058</td><td>0.6037411</td><td>fr</td></tr>\n",
       "\t<tr><td>Inaugural Address of Franklin Delano Roosevelt\r\n",
       "Given in Washington, D.C. March 4th, 1933</td><td>0.2897559</td><td>0.7920560</td><td>fr</td></tr>\n",
       "\t<tr><td>Maid Marian                                                                                </td><td>0.5914791</td><td>0.6944303</td><td>fr</td></tr>\n",
       "\t<tr><td>McTeague: A Story of San Francisco                                                         </td><td>0.9910879</td><td>0.5894581</td><td>fr</td></tr>\n",
       "\t<tr><td>Ten Years Later                                                                            </td><td>1.2222310</td><td>0.5322744</td><td>fr</td></tr>\n",
       "\t<tr><td>The Bible, Douay-Rheims, Old Testament — Part 1                                            </td><td>1.0979624</td><td>0.5210486</td><td>fr</td></tr>\n",
       "\t<tr><td>The Lazy Tour of Two Idle Apprentices                                                      </td><td>0.7570725</td><td>0.6520366</td><td>fr</td></tr>\n",
       "\t<tr><td>The Phantom of the Opera                                                                   </td><td>0.9998768</td><td>0.5753382</td><td>fr</td></tr>\n",
       "\t<tr><td>The Soul of a Bishop                                                                       </td><td>0.7762666</td><td>0.6520328</td><td>fr</td></tr>\n",
       "\t<tr><td>NA                                                                                         </td><td>0.4050629</td><td>0.7602768</td><td>fr</td></tr>\n",
       "</tbody>\n",
       "</table>\n"
      ],
      "text/latex": [
       "A data.frame: 20 × 4\n",
       "\\begin{tabular}{llll}\n",
       " title & a & b & language\\\\\n",
       " <chr> & <dbl> & <dbl> & <chr>\\\\\n",
       "\\hline\n",
       "\t Around the World in Eighty Days                                                             & 0.7394671 & 0.6532877 & en\\\\\n",
       "\t Camille (La Dame aux Camilias)                                                              & 1.0612123 & 0.5454732 & en\\\\\n",
       "\t From the Earth to the Moon; and, Round the Moon                                             & 0.9548350 & 0.6068525 & en\\\\\n",
       "\t Intentions                                                                                  & 0.6856043 & 0.6769286 & en\\\\\n",
       "\t The Black Tulip                                                                             & 0.8978457 & 0.6039249 & en\\\\\n",
       "\t The Great Shadow and Other Napoleonic Tales                                                 & 0.7409080 & 0.6288367 & en\\\\\n",
       "\t The Mysterious Island                                                                       & 1.0906852 & 0.5520328 & en\\\\\n",
       "\t The Picture of Dorian Gray                                                                  & 0.7400915 & 0.6347603 & en\\\\\n",
       "\t The Three Musketeers                                                                        & 1.2600071 & 0.5193619 & en\\\\\n",
       "\t Twenty Thousand Leagues under the Sea                                                       & 0.9198317 & 0.6112799 & en\\\\\n",
       "\t Frankenstein; Or, The Modern Prometheus                                                     & 0.9466058 & 0.6037411 & fr\\\\\n",
       "\t Inaugural Address of Franklin Delano Roosevelt\r\n",
       "Given in Washington, D.C. March 4th, 1933 & 0.2897559 & 0.7920560 & fr\\\\\n",
       "\t Maid Marian                                                                                 & 0.5914791 & 0.6944303 & fr\\\\\n",
       "\t McTeague: A Story of San Francisco                                                          & 0.9910879 & 0.5894581 & fr\\\\\n",
       "\t Ten Years Later                                                                             & 1.2222310 & 0.5322744 & fr\\\\\n",
       "\t The Bible, Douay-Rheims, Old Testament — Part 1                                             & 1.0979624 & 0.5210486 & fr\\\\\n",
       "\t The Lazy Tour of Two Idle Apprentices                                                       & 0.7570725 & 0.6520366 & fr\\\\\n",
       "\t The Phantom of the Opera                                                                    & 0.9998768 & 0.5753382 & fr\\\\\n",
       "\t The Soul of a Bishop                                                                        & 0.7762666 & 0.6520328 & fr\\\\\n",
       "\t NA                                                                                          & 0.4050629 & 0.7602768 & fr\\\\\n",
       "\\end{tabular}\n"
      ],
      "text/markdown": [
       "\n",
       "A data.frame: 20 × 4\n",
       "\n",
       "| title &lt;chr&gt; | a &lt;dbl&gt; | b &lt;dbl&gt; | language &lt;chr&gt; |\n",
       "|---|---|---|---|\n",
       "| Around the World in Eighty Days                                                             | 0.7394671 | 0.6532877 | en |\n",
       "| Camille (La Dame aux Camilias)                                                              | 1.0612123 | 0.5454732 | en |\n",
       "| From the Earth to the Moon; and, Round the Moon                                             | 0.9548350 | 0.6068525 | en |\n",
       "| Intentions                                                                                  | 0.6856043 | 0.6769286 | en |\n",
       "| The Black Tulip                                                                             | 0.8978457 | 0.6039249 | en |\n",
       "| The Great Shadow and Other Napoleonic Tales                                                 | 0.7409080 | 0.6288367 | en |\n",
       "| The Mysterious Island                                                                       | 1.0906852 | 0.5520328 | en |\n",
       "| The Picture of Dorian Gray                                                                  | 0.7400915 | 0.6347603 | en |\n",
       "| The Three Musketeers                                                                        | 1.2600071 | 0.5193619 | en |\n",
       "| Twenty Thousand Leagues under the Sea                                                       | 0.9198317 | 0.6112799 | en |\n",
       "| Frankenstein; Or, The Modern Prometheus                                                     | 0.9466058 | 0.6037411 | fr |\n",
       "| Inaugural Address of Franklin Delano Roosevelt\r\n",
       "Given in Washington, D.C. March 4th, 1933 | 0.2897559 | 0.7920560 | fr |\n",
       "| Maid Marian                                                                                 | 0.5914791 | 0.6944303 | fr |\n",
       "| McTeague: A Story of San Francisco                                                          | 0.9910879 | 0.5894581 | fr |\n",
       "| Ten Years Later                                                                             | 1.2222310 | 0.5322744 | fr |\n",
       "| The Bible, Douay-Rheims, Old Testament — Part 1                                             | 1.0979624 | 0.5210486 | fr |\n",
       "| The Lazy Tour of Two Idle Apprentices                                                       | 0.7570725 | 0.6520366 | fr |\n",
       "| The Phantom of the Opera                                                                    | 0.9998768 | 0.5753382 | fr |\n",
       "| The Soul of a Bishop                                                                        | 0.7762666 | 0.6520328 | fr |\n",
       "| NA                                                                                          | 0.4050629 | 0.7602768 | fr |\n",
       "\n"
      ],
      "text/plain": [
       "   title                                                                                      \n",
       "1  Around the World in Eighty Days                                                            \n",
       "2  Camille (La Dame aux Camilias)                                                             \n",
       "3  From the Earth to the Moon; and, Round the Moon                                            \n",
       "4  Intentions                                                                                 \n",
       "5  The Black Tulip                                                                            \n",
       "6  The Great Shadow and Other Napoleonic Tales                                                \n",
       "7  The Mysterious Island                                                                      \n",
       "8  The Picture of Dorian Gray                                                                 \n",
       "9  The Three Musketeers                                                                       \n",
       "10 Twenty Thousand Leagues under the Sea                                                      \n",
       "11 Frankenstein; Or, The Modern Prometheus                                                    \n",
       "12 Inaugural Address of Franklin Delano Roosevelt\\r\\nGiven in Washington, D.C. March 4th, 1933\n",
       "13 Maid Marian                                                                                \n",
       "14 McTeague: A Story of San Francisco                                                         \n",
       "15 Ten Years Later                                                                            \n",
       "16 The Bible, Douay-Rheims, Old Testament — Part 1                                            \n",
       "17 The Lazy Tour of Two Idle Apprentices                                                      \n",
       "18 The Phantom of the Opera                                                                   \n",
       "19 The Soul of a Bishop                                                                       \n",
       "20 NA                                                                                         \n",
       "   a         b         language\n",
       "1  0.7394671 0.6532877 en      \n",
       "2  1.0612123 0.5454732 en      \n",
       "3  0.9548350 0.6068525 en      \n",
       "4  0.6856043 0.6769286 en      \n",
       "5  0.8978457 0.6039249 en      \n",
       "6  0.7409080 0.6288367 en      \n",
       "7  1.0906852 0.5520328 en      \n",
       "8  0.7400915 0.6347603 en      \n",
       "9  1.2600071 0.5193619 en      \n",
       "10 0.9198317 0.6112799 en      \n",
       "11 0.9466058 0.6037411 fr      \n",
       "12 0.2897559 0.7920560 fr      \n",
       "13 0.5914791 0.6944303 fr      \n",
       "14 0.9910879 0.5894581 fr      \n",
       "15 1.2222310 0.5322744 fr      \n",
       "16 1.0979624 0.5210486 fr      \n",
       "17 0.7570725 0.6520366 fr      \n",
       "18 0.9998768 0.5753382 fr      \n",
       "19 0.7762666 0.6520328 fr      \n",
       "20 0.4050629 0.7602768 fr      "
      ]
     },
     "metadata": {},
     "output_type": "display_data"
    }
   ],
   "source": [
    "dfEn <- as.data.frame(heapEn) %>%\n",
    "    add_column(language = \"en\")\n",
    "dfFr <- as.data.frame(heapEnPl) %>%\n",
    "    add_column(language = \"fr\")\n",
    "df <- rbind(dfEn, dfFr)\n",
    "df"
   ]
  },
  {
   "cell_type": "code",
   "execution_count": 205,
   "id": "66892c98-b2f1-4b8e-8ea4-b75a9869328c",
   "metadata": {},
   "outputs": [
    {
     "data": {
      "image/png": "[encoded data removed]",
      "text/plain": [
       "plot without title"
      ]
     },
     "metadata": {
      "image/png": {
       "height": 420,
       "width": 420
      }
     },
     "output_type": "display_data"
    }
   ],
   "source": [
    "ggplot(df) +\n",
    "geom_point(aes(x = a, y = b, fill = language), size =3, shape=21)\n"
   ]
  },
  {
   "cell_type": "markdown",
   "id": "0869b636-6d26-408a-b081-5578b7cf4bfa",
   "metadata": {},
   "source": [
    "Po kilku godzinach niestety ustawienie języka francuskiego nie udało się - wyświetlenie tytułu francuskiego nie działa + niektóre książki mają złe formatowanie, wiem że do dziś jest deadline ale spróbowałbym wyjaśnić to na konsultacjach"
   ]
  },
  {
   "cell_type": "code",
   "execution_count": 172,
   "id": "d934b685-0fd2-488a-9ab4-f48e86d7970d",
   "metadata": {},
   "outputs": [
    {
     "name": "stderr",
     "output_type": "stream",
     "text": [
      "\u001b[1m\u001b[22mJoining, by = \"gutenberg_id\"\n"
     ]
    },
    {
     "data": {
      "text/html": [
       "<table class=\"dataframe\">\n",
       "<caption>A tibble: 0 × 2</caption>\n",
       "<thead>\n",
       "\t<tr><th scope=col>gutenberg_id</th><th scope=col>title</th></tr>\n",
       "\t<tr><th scope=col>&lt;int&gt;</th><th scope=col>&lt;chr&gt;</th></tr>\n",
       "</thead>\n",
       "<tbody>\n",
       "</tbody>\n",
       "</table>\n"
      ],
      "text/latex": [
       "A tibble: 0 × 2\n",
       "\\begin{tabular}{ll}\n",
       " gutenberg\\_id & title\\\\\n",
       " <int> & <chr>\\\\\n",
       "\\hline\n",
       "\\end{tabular}\n"
      ],
      "text/markdown": [
       "\n",
       "A tibble: 0 × 2\n",
       "\n",
       "| gutenberg_id &lt;int&gt; | title &lt;chr&gt; |\n",
       "|---|---|\n",
       "\n"
      ],
      "text/plain": [
       "     gutenberg_id title"
      ]
     },
     "metadata": {},
     "output_type": "display_data"
    }
   ],
   "source": [
    "#converting latin1 to utf-8\n",
    "heapFr <- function(booksId) {\n",
    "    g <- gutenberg_works()\n",
    "    v <- gutenberg_download(booksId) \n",
    "    books <- g[g$gutenberg_id %in% booksId,c(\"gutenberg_id\",\"title\")]\n",
    "    v %<>% left_join(books) %>%\n",
    "        mutate(gutenberg_id = NULL) %>% \n",
    "    map( iconv , from = \"ISO-8859-1\", to = \"UTF-8\") %>%\n",
    "    as.tibble()\n",
    "\n",
    "    heaps <- v %>%\n",
    "        unnest_tokens(word, text) %>%\n",
    "        group_by(title) %>% \n",
    "        mutate(M = row_number(), V = cumsum(!duplicated(word))) %>%\n",
    "        summarise(a = lm(log10(V) ~ log10(M))$coefficients[1], b = lm(log10(V) ~ log10(M))$coefficients[2])\n",
    "    return(heaps)\n",
    "    \n",
    "}\n",
    "booksIdFrUtf <- c(5097, 14287, 2419, 13951, 13735, 51236)\n",
    "booksIdFrLatin <- c(799, 800, 26504, 14192)\n",
    "\n",
    "g <- gutenberg_works()\n",
    "v <- gutenberg_download(booksIdFrUtf) \n",
    "books <- g[g$gutenberg_id %in% booksIdFrUtf,c(\"gutenberg_id\",\"title\")]\n",
    "v %<>% left_join(books) %>%\n",
    "    mutate(gutenberg_id = NULL) \n",
    "books\n",
    "\n",
    "    # heaps <- v %>%\n",
    "    #     unnest_tokens(word, text) %>%\n",
    "    #     group_by(title) %>% \n",
    "    #     mutate(M = row_number(), V = cumsum(!duplicated(word))) %>%\n",
    "    #     summarise(a = lm(log10(V) ~ log10(M))$coefficients[1], b = lm(log10(V) ~ log10(M))$coefficients[2])"
   ]
  },
  {
   "cell_type": "code",
   "execution_count": 186,
   "id": "fe26ce3f-6a2c-44e9-be6e-0e138a6483c6",
   "metadata": {},
   "outputs": [
    {
     "data": {
      "text/html": [
       "<table class=\"dataframe\">\n",
       "<caption>A tibble: 0 × 2</caption>\n",
       "<thead>\n",
       "\t<tr><th scope=col>gutenberg_id</th><th scope=col>title</th></tr>\n",
       "\t<tr><th scope=col>&lt;int&gt;</th><th scope=col>&lt;chr&gt;</th></tr>\n",
       "</thead>\n",
       "<tbody>\n",
       "</tbody>\n",
       "</table>\n"
      ],
      "text/latex": [
       "A tibble: 0 × 2\n",
       "\\begin{tabular}{ll}\n",
       " gutenberg\\_id & title\\\\\n",
       " <int> & <chr>\\\\\n",
       "\\hline\n",
       "\\end{tabular}\n"
      ],
      "text/markdown": [
       "\n",
       "A tibble: 0 × 2\n",
       "\n",
       "| gutenberg_id &lt;int&gt; | title &lt;chr&gt; |\n",
       "|---|---|\n",
       "\n"
      ],
      "text/plain": [
       "     gutenberg_id title"
      ]
     },
     "metadata": {},
     "output_type": "display_data"
    }
   ],
   "source": [
    "int <- 5097\n",
    "g[g$gutenberg_id==5097, c(\"gutenberg_id\",\"title\")]"
   ]
  }
 ],
 "metadata": {
  "kernelspec": {
   "display_name": "R",
   "language": "R",
   "name": "ir"
  },
  "language_info": {
   "codemirror_mode": "r",
   "file_extension": ".r",
   "mimetype": "text/x-r-source",
   "name": "R",
   "pygments_lexer": "r",
   "version": "4.2.1"
  }
 },
 "nbformat": 4,
 "nbformat_minor": 5
}
